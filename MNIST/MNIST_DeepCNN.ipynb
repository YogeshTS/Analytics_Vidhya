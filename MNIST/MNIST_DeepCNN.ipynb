{
 "cells": [
  {
   "cell_type": "code",
   "execution_count": 1,
   "metadata": {},
   "outputs": [
    {
     "name": "stderr",
     "output_type": "stream",
     "text": [
      "Using TensorFlow backend.\n"
     ]
    }
   ],
   "source": [
    "import numpy as np\n",
    "import matplotlib.pyplot as plt\n",
    "\n",
    "from sklearn.model_selection import train_test_split\n",
    "from keras.models import Sequential\n",
    "from keras.utils.np_utils import to_categorical\n",
    "from keras import optimizers\n",
    "from keras.layers import Activation, Dense, Flatten, Conv2D, MaxPooling2D\n",
    "\n",
    "import cv2\n",
    "import os"
   ]
  },
  {
   "cell_type": "code",
   "execution_count": 2,
   "metadata": {},
   "outputs": [],
   "source": [
    "import pandas as pd"
   ]
  },
  {
   "cell_type": "code",
   "execution_count": 5,
   "metadata": {},
   "outputs": [],
   "source": [
    "# Import train and test images\n",
    "# Get datasets from https://datahack.analyticsvidhya.com/contest/practice-problem-identify-the-digits/#ProblemStatement\n",
    "\n",
    "train=pd.read_csv('/Users/Akshara/MNIST/train/train.csv')\n",
    "test=pd.read_csv('/Users/Akshara/MNIST/test/test.csv')"
   ]
  },
  {
   "cell_type": "code",
   "execution_count": 6,
   "metadata": {},
   "outputs": [
    {
     "data": {
      "text/html": [
       "<div>\n",
       "<style scoped>\n",
       "    .dataframe tbody tr th:only-of-type {\n",
       "        vertical-align: middle;\n",
       "    }\n",
       "\n",
       "    .dataframe tbody tr th {\n",
       "        vertical-align: top;\n",
       "    }\n",
       "\n",
       "    .dataframe thead th {\n",
       "        text-align: right;\n",
       "    }\n",
       "</style>\n",
       "<table border=\"1\" class=\"dataframe\">\n",
       "  <thead>\n",
       "    <tr style=\"text-align: right;\">\n",
       "      <th></th>\n",
       "      <th>filename</th>\n",
       "      <th>label</th>\n",
       "    </tr>\n",
       "  </thead>\n",
       "  <tbody>\n",
       "    <tr>\n",
       "      <td>0</td>\n",
       "      <td>0.png</td>\n",
       "      <td>4</td>\n",
       "    </tr>\n",
       "    <tr>\n",
       "      <td>1</td>\n",
       "      <td>1.png</td>\n",
       "      <td>9</td>\n",
       "    </tr>\n",
       "    <tr>\n",
       "      <td>2</td>\n",
       "      <td>2.png</td>\n",
       "      <td>1</td>\n",
       "    </tr>\n",
       "    <tr>\n",
       "      <td>3</td>\n",
       "      <td>3.png</td>\n",
       "      <td>7</td>\n",
       "    </tr>\n",
       "    <tr>\n",
       "      <td>4</td>\n",
       "      <td>4.png</td>\n",
       "      <td>3</td>\n",
       "    </tr>\n",
       "  </tbody>\n",
       "</table>\n",
       "</div>"
      ],
      "text/plain": [
       "  filename  label\n",
       "0    0.png      4\n",
       "1    1.png      9\n",
       "2    2.png      1\n",
       "3    3.png      7\n",
       "4    4.png      3"
      ]
     },
     "execution_count": 6,
     "metadata": {},
     "output_type": "execute_result"
    }
   ],
   "source": [
    "train.head()"
   ]
  },
  {
   "cell_type": "code",
   "execution_count": 7,
   "metadata": {},
   "outputs": [
    {
     "data": {
      "text/html": [
       "<div>\n",
       "<style scoped>\n",
       "    .dataframe tbody tr th:only-of-type {\n",
       "        vertical-align: middle;\n",
       "    }\n",
       "\n",
       "    .dataframe tbody tr th {\n",
       "        vertical-align: top;\n",
       "    }\n",
       "\n",
       "    .dataframe thead th {\n",
       "        text-align: right;\n",
       "    }\n",
       "</style>\n",
       "<table border=\"1\" class=\"dataframe\">\n",
       "  <thead>\n",
       "    <tr style=\"text-align: right;\">\n",
       "      <th></th>\n",
       "      <th>filename</th>\n",
       "    </tr>\n",
       "  </thead>\n",
       "  <tbody>\n",
       "    <tr>\n",
       "      <td>0</td>\n",
       "      <td>49000.png</td>\n",
       "    </tr>\n",
       "    <tr>\n",
       "      <td>1</td>\n",
       "      <td>49001.png</td>\n",
       "    </tr>\n",
       "    <tr>\n",
       "      <td>2</td>\n",
       "      <td>49002.png</td>\n",
       "    </tr>\n",
       "    <tr>\n",
       "      <td>3</td>\n",
       "      <td>49003.png</td>\n",
       "    </tr>\n",
       "    <tr>\n",
       "      <td>4</td>\n",
       "      <td>49004.png</td>\n",
       "    </tr>\n",
       "  </tbody>\n",
       "</table>\n",
       "</div>"
      ],
      "text/plain": [
       "    filename\n",
       "0  49000.png\n",
       "1  49001.png\n",
       "2  49002.png\n",
       "3  49003.png\n",
       "4  49004.png"
      ]
     },
     "execution_count": 7,
     "metadata": {},
     "output_type": "execute_result"
    }
   ],
   "source": [
    "test.head()"
   ]
  },
  {
   "cell_type": "code",
   "execution_count": 11,
   "metadata": {},
   "outputs": [],
   "source": [
    "# Import train and test images\n",
    "train_img_path='/Users/Akshara/MNIST/Train/train/'\n",
    "test_img_path='/Users/Akshara/MNIST/Test/test/'\n",
    "\n",
    "train_img=[]\n",
    "\n",
    "for i in train['filename']:\n",
    "    img=cv2.imread(train_img_path+i,0)\n",
    "    img=img/255\n",
    "    train_img.append(img)\n",
    "    \n",
    "test_img=[]\n",
    "for i in test['filename']:\n",
    "    img=cv2.imread(test_img_path+i,0)\n",
    "    img=img/255\n",
    "    test_img.append(img)"
   ]
  },
  {
   "cell_type": "code",
   "execution_count": 12,
   "metadata": {},
   "outputs": [],
   "source": [
    "train_img = np.array(train_img)\n",
    "test_img = np.array(test_img)"
   ]
  },
  {
   "cell_type": "code",
   "execution_count": 13,
   "metadata": {},
   "outputs": [
    {
     "data": {
      "text/plain": [
       "49000"
      ]
     },
     "execution_count": 13,
     "metadata": {},
     "output_type": "execute_result"
    }
   ],
   "source": [
    "train_img.shape[0]"
   ]
  },
  {
   "cell_type": "code",
   "execution_count": 15,
   "metadata": {},
   "outputs": [
    {
     "data": {
      "text/plain": [
       "21000"
      ]
     },
     "execution_count": 15,
     "metadata": {},
     "output_type": "execute_result"
    }
   ],
   "source": [
    "test_img.shape[0]"
   ]
  },
  {
   "cell_type": "code",
   "execution_count": 16,
   "metadata": {},
   "outputs": [],
   "source": [
    "X_data = train_img.reshape((train_img.shape[0],train_img.shape[1],\n",
    "                          train_img.shape[2], 1))"
   ]
  },
  {
   "cell_type": "code",
   "execution_count": 17,
   "metadata": {},
   "outputs": [
    {
     "data": {
      "text/plain": [
       "(49000, 28, 28, 1)"
      ]
     },
     "execution_count": 17,
     "metadata": {},
     "output_type": "execute_result"
    }
   ],
   "source": [
    "X_data.shape"
   ]
  },
  {
   "cell_type": "code",
   "execution_count": 18,
   "metadata": {},
   "outputs": [],
   "source": [
    "Y_data = test_img.reshape((test_img.shape[0],test_img.shape[1],\n",
    "                          test_img.shape[2], 1))"
   ]
  },
  {
   "cell_type": "code",
   "execution_count": 19,
   "metadata": {},
   "outputs": [
    {
     "data": {
      "text/plain": [
       "(21000, 28, 28, 1)"
      ]
     },
     "execution_count": 19,
     "metadata": {},
     "output_type": "execute_result"
    }
   ],
   "source": [
    "Y_data.shape"
   ]
  },
  {
   "cell_type": "code",
   "execution_count": 20,
   "metadata": {},
   "outputs": [],
   "source": [
    "y=train['label']\n",
    "y=to_categorical(y)"
   ]
  },
  {
   "cell_type": "code",
   "execution_count": 21,
   "metadata": {},
   "outputs": [],
   "source": [
    "X_train,X_test,y_train,y_test = train_test_split(X_data,y,test_size = 0.3,random_state=777)"
   ]
  },
  {
   "cell_type": "code",
   "execution_count": 22,
   "metadata": {},
   "outputs": [
    {
     "name": "stdout",
     "output_type": "stream",
     "text": [
      "(34300, 28, 28, 1)\n",
      "(14700, 28, 28, 1)\n",
      "(34300, 10)\n",
      "(14700, 10)\n"
     ]
    }
   ],
   "source": [
    "print(X_train.shape)\n",
    "print(X_test.shape)\n",
    "print(y_train.shape)\n",
    "print(y_test.shape)"
   ]
  },
  {
   "cell_type": "code",
   "execution_count": 23,
   "metadata": {},
   "outputs": [],
   "source": [
    "def deep_cnn():\n",
    "    model = Sequential()\n",
    "    \n",
    "    model.add(Conv2D(input_shape = (X_train.shape[1], X_train.shape[2], X_train.shape[3]), filters = 50, kernel_size = (3,3), strides = (1,1), padding = 'same'))\n",
    "    model.add(Activation('relu'))\n",
    "    model.add(Conv2D(filters = 50, kernel_size = (3,3), strides = (1,1), padding = 'same'))\n",
    "    model.add(Activation('relu'))\n",
    "    model.add(MaxPooling2D(pool_size = (2,2)))\n",
    "    model.add(Conv2D(filters = 50, kernel_size = (3,3), strides = (1,1), padding = 'same'))\n",
    "    model.add(Activation('relu'))\n",
    "    model.add(Conv2D(filters = 50, kernel_size = (3,3), strides = (1,1), padding = 'same'))\n",
    "    model.add(Activation('relu'))\n",
    "    model.add(MaxPooling2D(pool_size = (2,2)))\n",
    "    model.add(Conv2D(filters = 50, kernel_size = (3,3), strides = (1,1), padding = 'same'))\n",
    "    model.add(Activation('relu'))\n",
    "    model.add(Conv2D(filters = 50, kernel_size = (3,3), strides = (1,1), padding = 'same'))\n",
    "    model.add(Activation('relu'))\n",
    "    model.add(MaxPooling2D(pool_size = (2,2)))\n",
    "    \n",
    "    # prior layer should be flattend to be connected to dense layers\n",
    "    model.add(Flatten())\n",
    "    # dense layer with 50 neurons\n",
    "    model.add(Dense(50, activation = 'relu'))\n",
    "    # final layer with 10 neurons to classify the instances\n",
    "    model.add(Dense(10, activation = 'softmax'))\n",
    "    \n",
    "    adam = optimizers.Adam(lr = 0.001)\n",
    "    model.compile(loss = 'categorical_crossentropy', optimizer = adam, metrics = ['accuracy'])\n",
    "    \n",
    "    return model"
   ]
  },
  {
   "cell_type": "code",
   "execution_count": 24,
   "metadata": {},
   "outputs": [
    {
     "name": "stdout",
     "output_type": "stream",
     "text": [
      "WARNING:tensorflow:From C:\\Users\\Akshara\\Anaconda3\\lib\\site-packages\\keras\\backend\\tensorflow_backend.py:4070: The name tf.nn.max_pool is deprecated. Please use tf.nn.max_pool2d instead.\n",
      "\n"
     ]
    }
   ],
   "source": [
    "model = deep_cnn()"
   ]
  },
  {
   "cell_type": "code",
   "execution_count": 25,
   "metadata": {},
   "outputs": [
    {
     "name": "stdout",
     "output_type": "stream",
     "text": [
      "Model: \"sequential_1\"\n",
      "_________________________________________________________________\n",
      "Layer (type)                 Output Shape              Param #   \n",
      "=================================================================\n",
      "conv2d_1 (Conv2D)            (None, 28, 28, 50)        500       \n",
      "_________________________________________________________________\n",
      "activation_1 (Activation)    (None, 28, 28, 50)        0         \n",
      "_________________________________________________________________\n",
      "conv2d_2 (Conv2D)            (None, 28, 28, 50)        22550     \n",
      "_________________________________________________________________\n",
      "activation_2 (Activation)    (None, 28, 28, 50)        0         \n",
      "_________________________________________________________________\n",
      "max_pooling2d_1 (MaxPooling2 (None, 14, 14, 50)        0         \n",
      "_________________________________________________________________\n",
      "conv2d_3 (Conv2D)            (None, 14, 14, 50)        22550     \n",
      "_________________________________________________________________\n",
      "activation_3 (Activation)    (None, 14, 14, 50)        0         \n",
      "_________________________________________________________________\n",
      "conv2d_4 (Conv2D)            (None, 14, 14, 50)        22550     \n",
      "_________________________________________________________________\n",
      "activation_4 (Activation)    (None, 14, 14, 50)        0         \n",
      "_________________________________________________________________\n",
      "max_pooling2d_2 (MaxPooling2 (None, 7, 7, 50)          0         \n",
      "_________________________________________________________________\n",
      "conv2d_5 (Conv2D)            (None, 7, 7, 50)          22550     \n",
      "_________________________________________________________________\n",
      "activation_5 (Activation)    (None, 7, 7, 50)          0         \n",
      "_________________________________________________________________\n",
      "conv2d_6 (Conv2D)            (None, 7, 7, 50)          22550     \n",
      "_________________________________________________________________\n",
      "activation_6 (Activation)    (None, 7, 7, 50)          0         \n",
      "_________________________________________________________________\n",
      "max_pooling2d_3 (MaxPooling2 (None, 3, 3, 50)          0         \n",
      "_________________________________________________________________\n",
      "flatten_1 (Flatten)          (None, 450)               0         \n",
      "_________________________________________________________________\n",
      "dense_1 (Dense)              (None, 50)                22550     \n",
      "_________________________________________________________________\n",
      "dense_2 (Dense)              (None, 10)                510       \n",
      "=================================================================\n",
      "Total params: 136,310\n",
      "Trainable params: 136,310\n",
      "Non-trainable params: 0\n",
      "_________________________________________________________________\n"
     ]
    }
   ],
   "source": [
    "model.summary()"
   ]
  },
  {
   "cell_type": "code",
   "execution_count": 26,
   "metadata": {},
   "outputs": [
    {
     "name": "stdout",
     "output_type": "stream",
     "text": [
      "WARNING:tensorflow:From C:\\Users\\Akshara\\Anaconda3\\lib\\site-packages\\keras\\backend\\tensorflow_backend.py:422: The name tf.global_variables is deprecated. Please use tf.compat.v1.global_variables instead.\n",
      "\n",
      "Train on 27440 samples, validate on 6860 samples\n",
      "Epoch 1/100\n",
      " - 165s - loss: 0.2470 - accuracy: 0.9205 - val_loss: 0.0898 - val_accuracy: 0.9722\n",
      "Epoch 2/100\n",
      " - 154s - loss: 0.0676 - accuracy: 0.9795 - val_loss: 0.0518 - val_accuracy: 0.9831\n",
      "Epoch 3/100\n",
      " - 155s - loss: 0.0456 - accuracy: 0.9854 - val_loss: 0.0469 - val_accuracy: 0.9854\n",
      "Epoch 4/100\n",
      " - 154s - loss: 0.0346 - accuracy: 0.9888 - val_loss: 0.0449 - val_accuracy: 0.9854\n",
      "Epoch 5/100\n",
      " - 151s - loss: 0.0307 - accuracy: 0.9905 - val_loss: 0.0469 - val_accuracy: 0.9860\n",
      "Epoch 6/100\n",
      " - 153s - loss: 0.0243 - accuracy: 0.9921 - val_loss: 0.0537 - val_accuracy: 0.9840\n",
      "Epoch 7/100\n",
      " - 155s - loss: 0.0212 - accuracy: 0.9932 - val_loss: 0.0371 - val_accuracy: 0.9880\n",
      "Epoch 8/100\n",
      " - 152s - loss: 0.0208 - accuracy: 0.9937 - val_loss: 0.0479 - val_accuracy: 0.9870\n",
      "Epoch 9/100\n",
      " - 152s - loss: 0.0179 - accuracy: 0.9944 - val_loss: 0.0547 - val_accuracy: 0.9850\n",
      "Epoch 10/100\n",
      " - 137s - loss: 0.0131 - accuracy: 0.9961 - val_loss: 0.0518 - val_accuracy: 0.9873\n",
      "Epoch 11/100\n",
      " - 131s - loss: 0.0145 - accuracy: 0.9952 - val_loss: 0.0657 - val_accuracy: 0.9870\n",
      "Epoch 12/100\n",
      " - 132s - loss: 0.0138 - accuracy: 0.9954 - val_loss: 0.0423 - val_accuracy: 0.9899\n",
      "Epoch 13/100\n",
      " - 131s - loss: 0.0090 - accuracy: 0.9970 - val_loss: 0.0596 - val_accuracy: 0.9882\n",
      "Epoch 14/100\n",
      " - 132s - loss: 0.0127 - accuracy: 0.9962 - val_loss: 0.0476 - val_accuracy: 0.9883\n",
      "Epoch 15/100\n",
      " - 130s - loss: 0.0100 - accuracy: 0.9969 - val_loss: 0.0347 - val_accuracy: 0.9911\n",
      "Epoch 16/100\n",
      " - 130s - loss: 0.0118 - accuracy: 0.9964 - val_loss: 0.0528 - val_accuracy: 0.9869\n",
      "Epoch 17/100\n",
      " - 131s - loss: 0.0077 - accuracy: 0.9976 - val_loss: 0.0443 - val_accuracy: 0.9889\n",
      "Epoch 18/100\n",
      " - 130s - loss: 0.0081 - accuracy: 0.9975 - val_loss: 0.0501 - val_accuracy: 0.9892\n",
      "Epoch 19/100\n",
      " - 132s - loss: 0.0083 - accuracy: 0.9972 - val_loss: 0.0742 - val_accuracy: 0.9867\n",
      "Epoch 20/100\n",
      " - 130s - loss: 0.0106 - accuracy: 0.9967 - val_loss: 0.0606 - val_accuracy: 0.9866\n",
      "Epoch 21/100\n",
      " - 133s - loss: 0.0084 - accuracy: 0.9972 - val_loss: 0.0581 - val_accuracy: 0.9882\n",
      "Epoch 22/100\n",
      " - 133s - loss: 0.0060 - accuracy: 0.9980 - val_loss: 0.0531 - val_accuracy: 0.9905\n",
      "Epoch 23/100\n",
      " - 132s - loss: 0.0069 - accuracy: 0.9978 - val_loss: 0.0591 - val_accuracy: 0.9883\n",
      "Epoch 24/100\n",
      " - 132s - loss: 0.0070 - accuracy: 0.9978 - val_loss: 0.0536 - val_accuracy: 0.9898\n",
      "Epoch 25/100\n",
      " - 131s - loss: 0.0083 - accuracy: 0.9973 - val_loss: 0.0752 - val_accuracy: 0.9838\n",
      "Epoch 26/100\n",
      " - 131s - loss: 0.0048 - accuracy: 0.9986 - val_loss: 0.0593 - val_accuracy: 0.9902\n",
      "Epoch 27/100\n",
      " - 138s - loss: 0.0042 - accuracy: 0.9989 - val_loss: 0.0486 - val_accuracy: 0.9914\n",
      "Epoch 28/100\n",
      " - 134s - loss: 0.0035 - accuracy: 0.9991 - val_loss: 0.0672 - val_accuracy: 0.9904\n",
      "Epoch 29/100\n",
      " - 137s - loss: 0.0091 - accuracy: 0.9971 - val_loss: 0.0561 - val_accuracy: 0.9886\n",
      "Epoch 30/100\n",
      " - 157s - loss: 0.0040 - accuracy: 0.9990 - val_loss: 0.0581 - val_accuracy: 0.9897\n",
      "Epoch 31/100\n",
      " - 163s - loss: 0.0072 - accuracy: 0.9978 - val_loss: 0.0725 - val_accuracy: 0.9889\n",
      "Epoch 32/100\n",
      " - 165s - loss: 0.0073 - accuracy: 0.9977 - val_loss: 0.0508 - val_accuracy: 0.9880\n",
      "Epoch 33/100\n",
      " - 155s - loss: 0.0045 - accuracy: 0.9986 - val_loss: 0.0650 - val_accuracy: 0.9891\n",
      "Epoch 34/100\n",
      " - 173s - loss: 0.0027 - accuracy: 0.9992 - val_loss: 0.0930 - val_accuracy: 0.9854\n",
      "Epoch 35/100\n",
      " - 162s - loss: 0.0068 - accuracy: 0.9981 - val_loss: 0.0519 - val_accuracy: 0.9889\n",
      "Epoch 36/100\n",
      " - 162s - loss: 0.0056 - accuracy: 0.9984 - val_loss: 0.0584 - val_accuracy: 0.9897\n",
      "Epoch 37/100\n",
      " - 162s - loss: 0.0061 - accuracy: 0.9981 - val_loss: 0.0595 - val_accuracy: 0.9886\n",
      "Epoch 38/100\n",
      " - 170s - loss: 8.3865e-04 - accuracy: 0.9998 - val_loss: 0.0673 - val_accuracy: 0.9899\n",
      "Epoch 39/100\n",
      " - 151s - loss: 0.0026 - accuracy: 0.9995 - val_loss: 0.0783 - val_accuracy: 0.9876\n",
      "Epoch 40/100\n",
      " - 154s - loss: 0.0075 - accuracy: 0.9978 - val_loss: 0.0752 - val_accuracy: 0.9882\n",
      "Epoch 41/100\n",
      " - 159s - loss: 0.0057 - accuracy: 0.9983 - val_loss: 0.0510 - val_accuracy: 0.9911\n",
      "Epoch 42/100\n",
      " - 162s - loss: 0.0022 - accuracy: 0.9995 - val_loss: 0.0645 - val_accuracy: 0.9905\n",
      "Epoch 43/100\n",
      " - 155s - loss: 4.7147e-04 - accuracy: 0.9999 - val_loss: 0.0602 - val_accuracy: 0.9911\n",
      "Epoch 44/100\n",
      " - 165s - loss: 1.4872e-04 - accuracy: 1.0000 - val_loss: 0.0622 - val_accuracy: 0.9918\n",
      "Epoch 45/100\n",
      " - 170s - loss: 7.1720e-06 - accuracy: 1.0000 - val_loss: 0.0637 - val_accuracy: 0.9915\n",
      "Epoch 46/100\n",
      " - 165s - loss: 1.8828e-06 - accuracy: 1.0000 - val_loss: 0.0643 - val_accuracy: 0.9915\n",
      "Epoch 47/100\n",
      " - 161s - loss: 1.3809e-06 - accuracy: 1.0000 - val_loss: 0.0650 - val_accuracy: 0.9915\n",
      "Epoch 48/100\n",
      " - 160s - loss: 1.0482e-06 - accuracy: 1.0000 - val_loss: 0.0658 - val_accuracy: 0.9915\n",
      "Epoch 49/100\n",
      " - 163s - loss: 8.0817e-07 - accuracy: 1.0000 - val_loss: 0.0666 - val_accuracy: 0.9915\n",
      "Epoch 50/100\n",
      " - 166s - loss: 6.2572e-07 - accuracy: 1.0000 - val_loss: 0.0675 - val_accuracy: 0.9915\n",
      "Epoch 51/100\n",
      " - 177s - loss: 4.8327e-07 - accuracy: 1.0000 - val_loss: 0.0684 - val_accuracy: 0.9917\n",
      "Epoch 52/100\n",
      " - 167s - loss: 3.7169e-07 - accuracy: 1.0000 - val_loss: 0.0693 - val_accuracy: 0.9915\n",
      "Epoch 53/100\n",
      " - 162s - loss: 2.8512e-07 - accuracy: 1.0000 - val_loss: 0.0704 - val_accuracy: 0.9915\n",
      "Epoch 54/100\n",
      " - 156s - loss: 2.1817e-07 - accuracy: 1.0000 - val_loss: 0.0715 - val_accuracy: 0.9915\n",
      "Epoch 55/100\n",
      " - 153s - loss: 1.6599e-07 - accuracy: 1.0000 - val_loss: 0.0727 - val_accuracy: 0.9915\n",
      "Epoch 56/100\n",
      " - 160s - loss: 1.2604e-07 - accuracy: 1.0000 - val_loss: 0.0738 - val_accuracy: 0.9915\n",
      "Epoch 57/100\n",
      " - 157s - loss: 9.6005e-08 - accuracy: 1.0000 - val_loss: 0.0749 - val_accuracy: 0.9915\n",
      "Epoch 58/100\n",
      " - 167s - loss: 7.2650e-08 - accuracy: 1.0000 - val_loss: 0.0762 - val_accuracy: 0.9917\n",
      "Epoch 59/100\n",
      " - 162s - loss: 5.4756e-08 - accuracy: 1.0000 - val_loss: 0.0774 - val_accuracy: 0.9917\n",
      "Epoch 60/100\n",
      " - 153s - loss: 4.1124e-08 - accuracy: 1.0000 - val_loss: 0.0786 - val_accuracy: 0.9917\n",
      "Epoch 61/100\n",
      " - 151s - loss: 3.0693e-08 - accuracy: 1.0000 - val_loss: 0.0799 - val_accuracy: 0.9918\n",
      "Epoch 62/100\n",
      " - 153s - loss: 2.2990e-08 - accuracy: 1.0000 - val_loss: 0.0812 - val_accuracy: 0.9918\n",
      "Epoch 63/100\n",
      " - 162s - loss: 1.7160e-08 - accuracy: 1.0000 - val_loss: 0.0825 - val_accuracy: 0.9917\n",
      "Epoch 64/100\n",
      " - 164s - loss: 1.2877e-08 - accuracy: 1.0000 - val_loss: 0.0838 - val_accuracy: 0.9918\n",
      "Epoch 65/100\n",
      " - 165s - loss: 9.6271e-09 - accuracy: 1.0000 - val_loss: 0.0851 - val_accuracy: 0.9918\n",
      "Epoch 66/100\n",
      " - 174s - loss: 7.1552e-09 - accuracy: 1.0000 - val_loss: 0.0863 - val_accuracy: 0.9918\n",
      "Epoch 67/100\n",
      " - 199s - loss: 5.3609e-09 - accuracy: 1.0000 - val_loss: 0.0876 - val_accuracy: 0.9918\n",
      "Epoch 68/100\n",
      " - 199s - loss: 4.0185e-09 - accuracy: 1.0000 - val_loss: 0.0889 - val_accuracy: 0.9918\n",
      "Epoch 69/100\n",
      " - 201s - loss: 3.0497e-09 - accuracy: 1.0000 - val_loss: 0.0901 - val_accuracy: 0.9918\n",
      "Epoch 70/100\n",
      " - 158s - loss: 2.2678e-09 - accuracy: 1.0000 - val_loss: 0.0913 - val_accuracy: 0.9917\n",
      "Epoch 71/100\n",
      " - 149s - loss: 1.6769e-09 - accuracy: 1.0000 - val_loss: 0.0924 - val_accuracy: 0.9917\n",
      "Epoch 72/100\n",
      " - 143s - loss: 1.2903e-09 - accuracy: 1.0000 - val_loss: 0.0935 - val_accuracy: 0.9917\n",
      "Epoch 73/100\n",
      " - 145s - loss: 9.8617e-10 - accuracy: 1.0000 - val_loss: 0.0945 - val_accuracy: 0.9917\n",
      "Epoch 74/100\n",
      " - 144s - loss: 7.6026e-10 - accuracy: 1.0000 - val_loss: 0.0954 - val_accuracy: 0.9917\n",
      "Epoch 75/100\n",
      " - 138s - loss: 5.6911e-10 - accuracy: 1.0000 - val_loss: 0.0962 - val_accuracy: 0.9917\n",
      "Epoch 76/100\n",
      " - 142s - loss: 4.2575e-10 - accuracy: 1.0000 - val_loss: 0.0967 - val_accuracy: 0.9915\n",
      "Epoch 77/100\n",
      " - 137s - loss: 3.0845e-10 - accuracy: 1.0000 - val_loss: 0.0971 - val_accuracy: 0.9915\n",
      "Epoch 78/100\n",
      " - 133s - loss: 2.4328e-10 - accuracy: 1.0000 - val_loss: 0.0973 - val_accuracy: 0.9917\n",
      "Epoch 79/100\n",
      " - 133s - loss: 2.0853e-10 - accuracy: 1.0000 - val_loss: 0.0974 - val_accuracy: 0.9917\n",
      "Epoch 80/100\n",
      " - 134s - loss: 1.6943e-10 - accuracy: 1.0000 - val_loss: 0.0972 - val_accuracy: 0.9917\n",
      "Epoch 81/100\n",
      " - 134s - loss: 1.6074e-10 - accuracy: 1.0000 - val_loss: 0.0971 - val_accuracy: 0.9917\n"
     ]
    },
    {
     "name": "stdout",
     "output_type": "stream",
     "text": [
      "Epoch 82/100\n",
      " - 143s - loss: 1.5205e-10 - accuracy: 1.0000 - val_loss: 0.0969 - val_accuracy: 0.9917\n",
      "Epoch 83/100\n",
      " - 133s - loss: 1.4336e-10 - accuracy: 1.0000 - val_loss: 0.0966 - val_accuracy: 0.9917\n",
      "Epoch 84/100\n",
      " - 132s - loss: 1.1730e-10 - accuracy: 1.0000 - val_loss: 0.0959 - val_accuracy: 0.9917\n",
      "Epoch 85/100\n",
      " - 148s - loss: 1.6074e-10 - accuracy: 1.0000 - val_loss: 0.0955 - val_accuracy: 0.9917\n",
      "Epoch 86/100\n",
      " - 135s - loss: 1.3033e-10 - accuracy: 1.0000 - val_loss: 0.0949 - val_accuracy: 0.9917\n",
      "Epoch 87/100\n",
      " - 151s - loss: 1.4771e-10 - accuracy: 1.0000 - val_loss: 0.0951 - val_accuracy: 0.9915\n",
      "Epoch 88/100\n",
      " - 139s - loss: 1.1295e-10 - accuracy: 1.0000 - val_loss: 0.0946 - val_accuracy: 0.9915\n",
      "Epoch 89/100\n",
      " - 130s - loss: 1.2599e-10 - accuracy: 1.0000 - val_loss: 0.0942 - val_accuracy: 0.9915\n",
      "Epoch 90/100\n",
      " - 141s - loss: 1.4336e-10 - accuracy: 1.0000 - val_loss: 0.0942 - val_accuracy: 0.9917\n",
      "Epoch 91/100\n",
      " - 175s - loss: 1.1295e-10 - accuracy: 1.0000 - val_loss: 0.0936 - val_accuracy: 0.9917\n",
      "Epoch 92/100\n",
      " - 185s - loss: 1.3033e-10 - accuracy: 1.0000 - val_loss: 0.0938 - val_accuracy: 0.9917\n",
      "Epoch 93/100\n",
      " - 174s - loss: 9.1232e-11 - accuracy: 1.0000 - val_loss: 0.0925 - val_accuracy: 0.9915\n",
      "Epoch 94/100\n",
      " - 174s - loss: 1.3033e-10 - accuracy: 1.0000 - val_loss: 0.0926 - val_accuracy: 0.9915\n",
      "Epoch 95/100\n",
      " - 175s - loss: 1.2599e-10 - accuracy: 1.0000 - val_loss: 0.0931 - val_accuracy: 0.9915\n",
      "Epoch 96/100\n",
      " - 147s - loss: 9.5576e-11 - accuracy: 1.0000 - val_loss: 0.0925 - val_accuracy: 0.9915\n",
      "Epoch 97/100\n",
      " - 148s - loss: 8.6887e-11 - accuracy: 1.0000 - val_loss: 0.0925 - val_accuracy: 0.9917\n",
      "Epoch 98/100\n",
      " - 172s - loss: 9.5576e-11 - accuracy: 1.0000 - val_loss: 0.0922 - val_accuracy: 0.9917\n",
      "Epoch 99/100\n",
      " - 196s - loss: 8.2543e-11 - accuracy: 1.0000 - val_loss: 0.0923 - val_accuracy: 0.9917\n",
      "Epoch 100/100\n",
      " - 147s - loss: 8.2543e-11 - accuracy: 1.0000 - val_loss: 0.0918 - val_accuracy: 0.9914\n",
      "Wall time: 4h 14min 15s\n"
     ]
    }
   ],
   "source": [
    "%%time\n",
    "history = model.fit(X_train, y_train, batch_size = 50, validation_split = 0.2, epochs = 100, verbose = 2)"
   ]
  },
  {
   "cell_type": "code",
   "execution_count": 28,
   "metadata": {},
   "outputs": [
    {
     "data": {
      "image/png": "[encoded data removed]",
      "text/plain": [
       "<Figure size 432x288 with 1 Axes>"
      ]
     },
     "metadata": {
      "needs_background": "light"
     },
     "output_type": "display_data"
    }
   ],
   "source": [
    "plt.plot(history.history['accuracy'])\n",
    "plt.plot(history.history['val_accuracy'])\n",
    "plt.legend(['training', 'validation'], loc = 'upper left')\n",
    "plt.show()"
   ]
  },
  {
   "cell_type": "code",
   "execution_count": 27,
   "metadata": {},
   "outputs": [
    {
     "name": "stdout",
     "output_type": "stream",
     "text": [
      "14700/14700 [==============================] - 21s 1ms/step\n"
     ]
    }
   ],
   "source": [
    "results = model.evaluate(X_test, y_test)"
   ]
  },
  {
   "cell_type": "code",
   "execution_count": 29,
   "metadata": {},
   "outputs": [
    {
     "name": "stdout",
     "output_type": "stream",
     "text": [
      "Test accuracy:  0.9923809766769409\n"
     ]
    }
   ],
   "source": [
    "print('Test accuracy: ', results[1])"
   ]
  },
  {
   "cell_type": "markdown",
   "metadata": {},
   "source": [
    "### Deep CNN - 2\n",
    "Measures used to ameliorate the performance of MLPs are employed\n",
    "- Weight Initialization\n",
    "- Batch Normalization\n",
    "- Dropout"
   ]
  },
  {
   "cell_type": "code",
   "execution_count": 31,
   "metadata": {},
   "outputs": [],
   "source": [
    "from keras.layers import BatchNormalization, Dropout"
   ]
  },
  {
   "cell_type": "code",
   "execution_count": 32,
   "metadata": {},
   "outputs": [],
   "source": [
    "def deep_cnn_advanced():\n",
    "    model = Sequential()\n",
    "    \n",
    "    model.add(Conv2D(input_shape = (X_train.shape[1], X_train.shape[2], X_train.shape[3]), filters = 50, kernel_size = (3,3), strides = (1,1), padding = 'same', kernel_initializer='he_normal'))\n",
    "    model.add(BatchNormalization())\n",
    "    model.add(Activation('relu'))\n",
    "    model.add(Conv2D(filters = 50, kernel_size = (3,3), strides = (1,1), padding = 'same', kernel_initializer='he_normal'))\n",
    "    model.add(BatchNormalization())\n",
    "    model.add(Activation('relu'))\n",
    "    model.add(MaxPooling2D(pool_size = (2,2)))\n",
    "    model.add(Conv2D(filters = 50, kernel_size = (3,3), strides = (1,1), padding = 'same', kernel_initializer='he_normal'))\n",
    "    model.add(BatchNormalization())\n",
    "    model.add(Activation('relu'))\n",
    "    model.add(Conv2D(filters = 50, kernel_size = (3,3), strides = (1,1), padding = 'same', kernel_initializer='he_normal'))\n",
    "    model.add(BatchNormalization())\n",
    "    model.add(Activation('relu'))\n",
    "    model.add(MaxPooling2D(pool_size = (2,2)))\n",
    "    model.add(Conv2D(filters = 50, kernel_size = (3,3), strides = (1,1), padding = 'same', kernel_initializer='he_normal'))\n",
    "    model.add(BatchNormalization())\n",
    "    model.add(Activation('relu'))\n",
    "    model.add(Conv2D(filters = 50, kernel_size = (3,3), strides = (1,1), padding = 'same', kernel_initializer='he_normal'))\n",
    "    model.add(BatchNormalization())\n",
    "    model.add(Activation('relu'))\n",
    "    model.add(MaxPooling2D(pool_size = (2,2)))\n",
    "    \n",
    "    # prior layer should be flattend to be connected to dense layers\n",
    "    model.add(Flatten())\n",
    "    # dense layer with 50 neurons\n",
    "    model.add(Dense(50, activation = 'relu', kernel_initializer='he_normal'))\n",
    "    model.add(Dropout(0.5))\n",
    "    # final layer with 10 neurons to classify the instances\n",
    "    model.add(Dense(10, activation = 'softmax', kernel_initializer='he_normal'))\n",
    "    \n",
    "    adam = optimizers.Adam(lr = 0.001)\n",
    "    model.compile(loss = 'categorical_crossentropy', optimizer = adam, metrics = ['accuracy'])\n",
    "    \n",
    "    return model"
   ]
  },
  {
   "cell_type": "code",
   "execution_count": 33,
   "metadata": {},
   "outputs": [],
   "source": [
    "model = deep_cnn_advanced()"
   ]
  },
  {
   "cell_type": "code",
   "execution_count": 34,
   "metadata": {},
   "outputs": [
    {
     "name": "stdout",
     "output_type": "stream",
     "text": [
      "Model: \"sequential_2\"\n",
      "_________________________________________________________________\n",
      "Layer (type)                 Output Shape              Param #   \n",
      "=================================================================\n",
      "conv2d_7 (Conv2D)            (None, 28, 28, 50)        500       \n",
      "_________________________________________________________________\n",
      "batch_normalization_1 (Batch (None, 28, 28, 50)        200       \n",
      "_________________________________________________________________\n",
      "activation_7 (Activation)    (None, 28, 28, 50)        0         \n",
      "_________________________________________________________________\n",
      "conv2d_8 (Conv2D)            (None, 28, 28, 50)        22550     \n",
      "_________________________________________________________________\n",
      "batch_normalization_2 (Batch (None, 28, 28, 50)        200       \n",
      "_________________________________________________________________\n",
      "activation_8 (Activation)    (None, 28, 28, 50)        0         \n",
      "_________________________________________________________________\n",
      "max_pooling2d_4 (MaxPooling2 (None, 14, 14, 50)        0         \n",
      "_________________________________________________________________\n",
      "conv2d_9 (Conv2D)            (None, 14, 14, 50)        22550     \n",
      "_________________________________________________________________\n",
      "batch_normalization_3 (Batch (None, 14, 14, 50)        200       \n",
      "_________________________________________________________________\n",
      "activation_9 (Activation)    (None, 14, 14, 50)        0         \n",
      "_________________________________________________________________\n",
      "conv2d_10 (Conv2D)           (None, 14, 14, 50)        22550     \n",
      "_________________________________________________________________\n",
      "batch_normalization_4 (Batch (None, 14, 14, 50)        200       \n",
      "_________________________________________________________________\n",
      "activation_10 (Activation)   (None, 14, 14, 50)        0         \n",
      "_________________________________________________________________\n",
      "max_pooling2d_5 (MaxPooling2 (None, 7, 7, 50)          0         \n",
      "_________________________________________________________________\n",
      "conv2d_11 (Conv2D)           (None, 7, 7, 50)          22550     \n",
      "_________________________________________________________________\n",
      "batch_normalization_5 (Batch (None, 7, 7, 50)          200       \n",
      "_________________________________________________________________\n",
      "activation_11 (Activation)   (None, 7, 7, 50)          0         \n",
      "_________________________________________________________________\n",
      "conv2d_12 (Conv2D)           (None, 7, 7, 50)          22550     \n",
      "_________________________________________________________________\n",
      "batch_normalization_6 (Batch (None, 7, 7, 50)          200       \n",
      "_________________________________________________________________\n",
      "activation_12 (Activation)   (None, 7, 7, 50)          0         \n",
      "_________________________________________________________________\n",
      "max_pooling2d_6 (MaxPooling2 (None, 3, 3, 50)          0         \n",
      "_________________________________________________________________\n",
      "flatten_2 (Flatten)          (None, 450)               0         \n",
      "_________________________________________________________________\n",
      "dense_3 (Dense)              (None, 50)                22550     \n",
      "_________________________________________________________________\n",
      "dropout_1 (Dropout)          (None, 50)                0         \n",
      "_________________________________________________________________\n",
      "dense_4 (Dense)              (None, 10)                510       \n",
      "=================================================================\n",
      "Total params: 137,510\n",
      "Trainable params: 136,910\n",
      "Non-trainable params: 600\n",
      "_________________________________________________________________\n"
     ]
    }
   ],
   "source": [
    "model.summary()"
   ]
  },
  {
   "cell_type": "code",
   "execution_count": 36,
   "metadata": {},
   "outputs": [
    {
     "name": "stdout",
     "output_type": "stream",
     "text": [
      "Train on 27440 samples, validate on 6860 samples\n",
      "Epoch 1/50\n",
      " - 430s - loss: 0.0646 - accuracy: 0.9792 - val_loss: 0.0462 - val_accuracy: 0.9892\n",
      "Epoch 2/50\n",
      " - 385s - loss: 0.0647 - accuracy: 0.9794 - val_loss: 0.0452 - val_accuracy: 0.9899\n",
      "Epoch 3/50\n",
      " - 386s - loss: 0.0569 - accuracy: 0.9823 - val_loss: 0.0422 - val_accuracy: 0.9892\n",
      "Epoch 4/50\n",
      " - 382s - loss: 0.0506 - accuracy: 0.9837 - val_loss: 0.0619 - val_accuracy: 0.9869\n",
      "Epoch 5/50\n",
      " - 383s - loss: 0.0487 - accuracy: 0.9843 - val_loss: 0.0590 - val_accuracy: 0.9883\n",
      "Epoch 6/50\n",
      " - 387s - loss: 0.0421 - accuracy: 0.9866 - val_loss: 0.0567 - val_accuracy: 0.9870\n",
      "Epoch 7/50\n",
      " - 382s - loss: 0.0392 - accuracy: 0.9871 - val_loss: 0.0403 - val_accuracy: 0.9915\n",
      "Epoch 8/50\n",
      " - 387s - loss: 0.0397 - accuracy: 0.9882 - val_loss: 0.0343 - val_accuracy: 0.9907\n",
      "Epoch 9/50\n",
      " - 385s - loss: 0.0359 - accuracy: 0.9887 - val_loss: 0.0506 - val_accuracy: 0.9897\n",
      "Epoch 10/50\n",
      " - 383s - loss: 0.0318 - accuracy: 0.9902 - val_loss: 0.0520 - val_accuracy: 0.9910\n",
      "Epoch 11/50\n",
      " - 383s - loss: 0.0336 - accuracy: 0.9891 - val_loss: 0.0437 - val_accuracy: 0.9917\n",
      "Epoch 12/50\n",
      " - 383s - loss: 0.0304 - accuracy: 0.9901 - val_loss: 0.0558 - val_accuracy: 0.9901\n",
      "Epoch 13/50\n",
      " - 386s - loss: 0.0307 - accuracy: 0.9902 - val_loss: 0.0542 - val_accuracy: 0.9904\n",
      "Epoch 14/50\n",
      " - 388s - loss: 0.0277 - accuracy: 0.9914 - val_loss: 0.0461 - val_accuracy: 0.9907\n",
      "Epoch 15/50\n",
      " - 385s - loss: 0.0323 - accuracy: 0.9899 - val_loss: 0.0435 - val_accuracy: 0.9914\n",
      "Epoch 16/50\n",
      " - 382s - loss: 0.0248 - accuracy: 0.9924 - val_loss: 0.1009 - val_accuracy: 0.9822\n",
      "Epoch 17/50\n",
      " - 382s - loss: 0.0256 - accuracy: 0.9923 - val_loss: 0.0536 - val_accuracy: 0.9910\n",
      "Epoch 18/50\n",
      " - 382s - loss: 0.0261 - accuracy: 0.9915 - val_loss: 0.0416 - val_accuracy: 0.9926\n",
      "Epoch 19/50\n",
      " - 382s - loss: 0.0245 - accuracy: 0.9927 - val_loss: 0.0747 - val_accuracy: 0.9882\n",
      "Epoch 20/50\n",
      " - 381s - loss: 0.0193 - accuracy: 0.9938 - val_loss: 0.0649 - val_accuracy: 0.9892\n",
      "Epoch 21/50\n",
      " - 381s - loss: 0.0193 - accuracy: 0.9932 - val_loss: 0.0408 - val_accuracy: 0.9927\n",
      "Epoch 22/50\n",
      " - 381s - loss: 0.0215 - accuracy: 0.9930 - val_loss: 0.0623 - val_accuracy: 0.9882\n",
      "Epoch 23/50\n",
      " - 381s - loss: 0.0169 - accuracy: 0.9949 - val_loss: 0.0587 - val_accuracy: 0.9907\n",
      "Epoch 24/50\n",
      " - 384s - loss: 0.0198 - accuracy: 0.9938 - val_loss: 0.0772 - val_accuracy: 0.9895\n",
      "Epoch 25/50\n",
      " - 393s - loss: 0.0168 - accuracy: 0.9941 - val_loss: 0.0887 - val_accuracy: 0.9888\n",
      "Epoch 26/50\n",
      " - 381s - loss: 0.0192 - accuracy: 0.9931 - val_loss: 0.0555 - val_accuracy: 0.9913\n",
      "Epoch 27/50\n",
      " - 381s - loss: 0.0180 - accuracy: 0.9939 - val_loss: 0.0483 - val_accuracy: 0.9913\n",
      "Epoch 28/50\n",
      " - 381s - loss: 0.0168 - accuracy: 0.9946 - val_loss: 0.0536 - val_accuracy: 0.9926\n",
      "Epoch 29/50\n",
      " - 381s - loss: 0.0146 - accuracy: 0.9952 - val_loss: 0.0589 - val_accuracy: 0.9923\n",
      "Epoch 30/50\n",
      " - 381s - loss: 0.0181 - accuracy: 0.9942 - val_loss: 0.0691 - val_accuracy: 0.9885\n",
      "Epoch 31/50\n",
      " - 381s - loss: 0.0153 - accuracy: 0.9949 - val_loss: 0.0426 - val_accuracy: 0.9937\n",
      "Epoch 32/50\n",
      " - 381s - loss: 0.0178 - accuracy: 0.9941 - val_loss: 0.0454 - val_accuracy: 0.9918\n",
      "Epoch 33/50\n",
      " - 385s - loss: 0.0147 - accuracy: 0.9951 - val_loss: 0.0466 - val_accuracy: 0.9933\n",
      "Epoch 34/50\n",
      " - 381s - loss: 0.0111 - accuracy: 0.9959 - val_loss: 0.0660 - val_accuracy: 0.9923\n",
      "Epoch 35/50\n",
      " - 381s - loss: 0.0127 - accuracy: 0.9954 - val_loss: 0.0841 - val_accuracy: 0.9898\n",
      "Epoch 36/50\n",
      " - 383s - loss: 0.0161 - accuracy: 0.9952 - val_loss: 0.0564 - val_accuracy: 0.9920\n",
      "Epoch 37/50\n",
      " - 384s - loss: 0.0140 - accuracy: 0.9959 - val_loss: 0.0570 - val_accuracy: 0.9921\n",
      "Epoch 38/50\n",
      " - 384s - loss: 0.0099 - accuracy: 0.9962 - val_loss: 0.0629 - val_accuracy: 0.9917\n",
      "Epoch 39/50\n",
      " - 383s - loss: 0.0131 - accuracy: 0.9954 - val_loss: 0.0594 - val_accuracy: 0.9913\n",
      "Epoch 40/50\n",
      " - 384s - loss: 0.0137 - accuracy: 0.9954 - val_loss: 0.0725 - val_accuracy: 0.9899\n",
      "Epoch 41/50\n",
      " - 383s - loss: 0.0139 - accuracy: 0.9956 - val_loss: 0.0556 - val_accuracy: 0.9923\n",
      "Epoch 42/50\n",
      " - 381s - loss: 0.0086 - accuracy: 0.9968 - val_loss: 0.0712 - val_accuracy: 0.9911\n",
      "Epoch 43/50\n",
      " - 384s - loss: 0.0120 - accuracy: 0.9968 - val_loss: 0.0624 - val_accuracy: 0.9926\n",
      "Epoch 44/50\n",
      " - 387s - loss: 0.0070 - accuracy: 0.9976 - val_loss: 0.0655 - val_accuracy: 0.9923\n",
      "Epoch 45/50\n",
      " - 383s - loss: 0.0133 - accuracy: 0.9961 - val_loss: 0.0646 - val_accuracy: 0.9908\n",
      "Epoch 46/50\n",
      " - 383s - loss: 0.0125 - accuracy: 0.9961 - val_loss: 0.1973 - val_accuracy: 0.9746\n",
      "Epoch 47/50\n",
      " - 384s - loss: 0.0104 - accuracy: 0.9966 - val_loss: 0.0547 - val_accuracy: 0.9920\n",
      "Epoch 48/50\n",
      " - 383s - loss: 0.0097 - accuracy: 0.9968 - val_loss: 0.0646 - val_accuracy: 0.9917\n",
      "Epoch 49/50\n",
      " - 383s - loss: 0.0084 - accuracy: 0.9971 - val_loss: 0.0699 - val_accuracy: 0.9914\n",
      "Epoch 50/50\n",
      " - 396s - loss: 0.0134 - accuracy: 0.9956 - val_loss: 0.0527 - val_accuracy: 0.9923\n",
      "Wall time: 5h 20min 26s\n"
     ]
    }
   ],
   "source": [
    "%%time\n",
    "history = model.fit(X_train, y_train, batch_size = 50, validation_split = 0.2, epochs = 50, verbose = 2)"
   ]
  },
  {
   "cell_type": "code",
   "execution_count": 37,
   "metadata": {},
   "outputs": [
    {
     "data": {
      "image/png": "[encoded data removed]",
      "text/plain": [
       "<Figure size 432x288 with 1 Axes>"
      ]
     },
     "metadata": {
      "needs_background": "light"
     },
     "output_type": "display_data"
    }
   ],
   "source": [
    "plt.plot(history.history['accuracy'])\n",
    "plt.plot(history.history['val_accuracy'])\n",
    "plt.legend(['training', 'validation'], loc = 'upper left')\n",
    "plt.show()"
   ]
  },
  {
   "cell_type": "code",
   "execution_count": 38,
   "metadata": {},
   "outputs": [
    {
     "name": "stdout",
     "output_type": "stream",
     "text": [
      "14700/14700 [==============================] - 60s 4ms/step\n"
     ]
    }
   ],
   "source": [
    "results = model.evaluate(X_test, y_test)"
   ]
  },
  {
   "cell_type": "code",
   "execution_count": 39,
   "metadata": {},
   "outputs": [
    {
     "name": "stdout",
     "output_type": "stream",
     "text": [
      "Test accuracy:  0.9917687177658081\n"
     ]
    }
   ],
   "source": [
    "print('Test accuracy: ', results[1])"
   ]
  },
  {
   "cell_type": "code",
   "execution_count": 40,
   "metadata": {},
   "outputs": [],
   "source": [
    "#Making prediction\n",
    "prediction = model.predict_classes(Y_data)"
   ]
  },
  {
   "cell_type": "code",
   "execution_count": 41,
   "metadata": {},
   "outputs": [],
   "source": [
    "# creating submission file\n",
    "sample = pd.read_csv('/Users/Akshara/MNIST/sample_submission_npBPSZB.csv')\n",
    "sample['label'] = prediction\n",
    "sample.to_csv('/Users/Akshara/MNIST/sample_final.csv', header=True, index=False)"
   ]
  },
  {
   "cell_type": "code",
   "execution_count": null,
   "metadata": {},
   "outputs": [],
   "source": []
  }
 ],
 "metadata": {
  "kernelspec": {
   "display_name": "Python 3",
   "language": "python",
   "name": "python3"
  },
  "language_info": {
   "codemirror_mode": {
    "name": "ipython",
    "version": 3
   },
   "file_extension": ".py",
   "mimetype": "text/x-python",
   "name": "python",
   "nbconvert_exporter": "python",
   "pygments_lexer": "ipython3",
   "version": "3.6.9"
  }
 },
 "nbformat": 4,
 "nbformat_minor": 2
}
